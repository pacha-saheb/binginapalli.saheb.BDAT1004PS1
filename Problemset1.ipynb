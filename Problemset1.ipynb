{
 "cells": [
  {
   "cell_type": "markdown",
   "id": "231caa0d",
   "metadata": {},
   "source": [
    "Question 1\n",
    "What data type is each of the following (evaluate where necessary)?\n",
    "5 \n",
    "5.0 \n",
    "5 > 1 \n",
    "'5'\n",
    "5 * 2 \n",
    "'5' * 2\n",
    "'5' + '2'\n",
    "5 / 2\n",
    "5 % 2\n",
    "{5, 2, 1}\n",
    "5 == 3\n",
    "Pi (the number)\n",
    "\n"
   ]
  },
  {
   "cell_type": "code",
   "execution_count": 8,
   "id": "0686be37",
   "metadata": {},
   "outputs": [
    {
     "name": "stdout",
     "output_type": "stream",
     "text": [
      "<class 'int'>\n",
      "<class 'float'>\n",
      "<class 'bool'>\n",
      "<class 'str'>\n",
      "<class 'int'>\n",
      "<class 'str'>\n",
      "<class 'str'>\n",
      "<class 'float'>\n",
      "<class 'int'>\n",
      "<class 'set'>\n",
      "<class 'bool'>\n",
      "<class 'float'>\n"
     ]
    }
   ],
   "source": [
    "# Evaluating the given inputs using type method to identify the data type\n",
    "print(type(5))         #answer-int type \n",
    "print(type(5.0))       #answer- float type\n",
    "print(type(5 > 1))     #answer- comparisoion operator gives boolean value as output, hence bool type which is True \n",
    "print(type('5'))       #answer - str type\n",
    "print(type(5 * 2))     #answer =10 which is int type\n",
    "print(type('5' * 2))   #answer- multiplication operator string with integer value gives the n times of string which is str type. \n",
    "print(type('5' + '2')) #answer- using plus operator for two strings results in concatenation of string which gives str type.\n",
    "print(type(5 / 2))     #answer- division operator between two integers give int type as result\n",
    "print(type(5 % 2))     #answer- modulo operator gives the remainder 1 which is integer\n",
    "print(type({5, 2, 1})) #answer- set type\n",
    "print(type(5 == 3))    #answer- equality operation gives bool type\n",
    "from math import pi\n",
    "print(type(pi))        #answer-pi is 3.14 which is float type"
   ]
  },
  {
   "cell_type": "code",
   "execution_count": null,
   "id": "2f7f7875",
   "metadata": {},
   "outputs": [],
   "source": [
    "\n"
   ]
  },
  {
   "cell_type": "markdown",
   "id": "273c03f5",
   "metadata": {},
   "source": [
    "Question 2\n",
    "Write (and evaluate) python expressions that answer these questions:\n",
    "a. How many letters are there in 'Supercalifragilisticexpialidocious'?\n",
    "b. Does 'Supercalifragilisticexpialidocious' contain 'ice' as a substring? \n",
    "c. Which of the following words is the longest:\n",
    "Supercalifragilisticexpialidocious, Honorificabilitudinitatibus, or\n",
    "Bababadalgharaghtakamminarronnkonn?\n",
    "d. Which composer comes first in the dictionary: 'Berlioz', 'Borodin', 'Brian',\n",
    "'Bartok', 'Bellini', 'Buxtehude', 'Bernstein'. Which one comes last?\n"
   ]
  },
  {
   "cell_type": "code",
   "execution_count": 17,
   "id": "a354853a",
   "metadata": {},
   "outputs": [
    {
     "name": "stdout",
     "output_type": "stream",
     "text": [
      "34\n",
      "True\n",
      "Supercalifragilisticexpialidocious\n",
      "Bartok\n",
      "Buxtehude\n"
     ]
    }
   ],
   "source": [
    "#a.we can find the number of letters of string using len function\n",
    "print(len('Supercalifragilisticexpialidocious'))   #answer- 34\n",
    "\n",
    "#b.we can find the substring 'ice' in 'Supercalifragilisticexpialidocious' using in operator which returns True or False\n",
    "print('ice' in 'Supercalifragilisticexpialidocious') #answer- True\n",
    "\n",
    "#c.we can find the maximum number of letters of multiple or list string using max function\n",
    "strings = ['Supercalifragilisticexpialidocious', 'Honorificabilitudinitatibus','Bababadalgharaghtakamminarronnkonn']\n",
    "print(max(strings))\n",
    "#answer Supercalifragilisticexpialidocious \n",
    "\n",
    "#d.we can keep the multiple or list of strings in sorted way according to dictionary using sort function in list\n",
    "strings = ['Berlioz', 'Borodin', 'Brian','Bartok', 'Bellini', 'Buxtehude', 'Bernstein']\n",
    "strings.sort()\n",
    "print(strings[0])  # first composer Bartok\n",
    "print(strings[-1]) # last composer Buxtehude using negative index\n"
   ]
  },
  {
   "cell_type": "code",
   "execution_count": null,
   "id": "bae6d197",
   "metadata": {},
   "outputs": [],
   "source": []
  },
  {
   "cell_type": "markdown",
   "id": "18fdaf82",
   "metadata": {},
   "source": [
    "Question 3\n",
    "Implement function triangleArea(a,b,c) that takes as input the lengths of the 3\n",
    "sides of a triangle and returns the area of the triangle. By Heron's formula, the area\n",
    "of a triangle with side lengths a, b, and c is square root of\n",
    "s(s - a)(s -b)(s -c)\n",
    ", where\n",
    "s = (a+b+c)/2.\n",
    "ex--triangleArea(2,2,2)\n",
    "1.7320508075688772"
   ]
  },
  {
   "cell_type": "code",
   "execution_count": 19,
   "id": "21b54cbb",
   "metadata": {},
   "outputs": [
    {
     "name": "stdout",
     "output_type": "stream",
     "text": [
      "1.7320508075688772\n"
     ]
    }
   ],
   "source": [
    "from math import sqrt #importing squareroot function\n",
    "def triangleArea(a,b,c): #defining the triangleArea function\n",
    "    ''' a,b,c as parameters which is side lengths'''\n",
    "    #caluclate value of s\n",
    "    s = (a+b+c)/2\n",
    "    #calculate value of area\n",
    "    area = sqrt(s*(s-a)*(s-b)*(s-c))\n",
    "    print(area)\n",
    "\n",
    "#calling the function\n",
    "triangleArea(2,2,2)"
   ]
  },
  {
   "cell_type": "code",
   "execution_count": null,
   "id": "65ffee4d",
   "metadata": {},
   "outputs": [],
   "source": []
  },
  {
   "cell_type": "markdown",
   "id": "2b03cfb4",
   "metadata": {},
   "source": [
    "Question 4\n",
    "Write a program in python to separate odd and even integers in separate arrays. Go\n",
    "to the editor\n",
    "Test Data :\n",
    "Input the number of elements to be stored in the array :5\n",
    "Input 5 elements in the array :\n",
    "element - 0 : 25\n",
    "element - 1 : 47\n",
    "element - 2 : 42\n",
    "element - 3 : 56\n",
    "element - 4 : 32\n",
    "Expected Output:\n",
    "The Even elements are:\n",
    "42 56 32\n",
    "The Odd elements are :\n",
    "25 47"
   ]
  },
  {
   "cell_type": "code",
   "execution_count": 22,
   "id": "1ad03b18",
   "metadata": {},
   "outputs": [
    {
     "name": "stdout",
     "output_type": "stream",
     "text": [
      "Input the number of elements to be stored in the array :5\n",
      "Input  5  elements in the array :\n",
      "element - 0 : 25\n",
      "element - 1 : 47\n",
      "element - 2 : 42\n",
      "element - 3 : 56\n",
      "element - 4 : 32\n",
      "the even elments are : [42, 56, 32]\n",
      "the even elments are : [25, 47]\n"
     ]
    }
   ],
   "source": [
    "#enter elements count\n",
    "elements_count = int(input('Input the number of elements to be stored in the array :'))\n",
    "elements_list = []\n",
    "print('Input ', elements_count, ' elements in the array :')\n",
    "#iteration for each element\n",
    "for each in range(elements_count):\n",
    "    element = int(input('element - '+ str(each)+' : '))\n",
    "    #append each element to list\n",
    "    elements_list.append(element)\n",
    "    \n",
    "even = []\n",
    "odd = []\n",
    "for each in elements_list:\n",
    "    # check for even numbers\n",
    "    if each%2 == 0:\n",
    "        even.append(each)\n",
    "    else:\n",
    "        #check for odd numbers\n",
    "        odd.append(each)\n",
    "\n",
    "print('the even elments are :', even)\n",
    "print('the even elments are :', odd)\n"
   ]
  },
  {
   "cell_type": "code",
   "execution_count": null,
   "id": "721f51af",
   "metadata": {},
   "outputs": [],
   "source": []
  },
  {
   "cell_type": "markdown",
   "id": "44f02f95",
   "metadata": {},
   "source": [
    "Question 5\n",
    "a. Write a function inside(x,y,x1,y1,x2,y2) that returns True or False\n",
    "depending on whether the point (x,y) lies in the rectangle with lower left\n",
    "corner (x1,y1) and upper right corner (x2,y2).\n",
    "ex--inside(1,1,0,0,2,3)\n",
    "True\n",
    "ex-- inside(-1,-1,0,0,2,3)\n",
    "False\n",
    "b. Use function inside() from part a. to write an expression that tests whether\n",
    "the point (1,1) lies in both of the following rectangles: one with lower left\n",
    "corner (0.3, 0.5) and upper right corner (1.1, 0.7) and the other with lower\n",
    "left corner (0.5, 0.2) and upper right corner (1.1, 2). \n"
   ]
  },
  {
   "cell_type": "code",
   "execution_count": 24,
   "id": "c9b5bf7a",
   "metadata": {},
   "outputs": [
    {
     "name": "stdout",
     "output_type": "stream",
     "text": [
      "True\n",
      "False\n",
      "False\n",
      "True\n"
     ]
    }
   ],
   "source": [
    "#a. writing a function inside\n",
    "def inside(x,y,x1,y1,x2,y2):\n",
    "    flag_for_x = False\n",
    "    flag_for_y = False\n",
    "    if x1<x and x2>x:\n",
    "        flag_for_x = True\n",
    "    if y1<y and y2>y:\n",
    "        flag_for_y = True\n",
    "    if flag_for_x and flag_for_y:\n",
    "        return True\n",
    "    else:\n",
    "        return False\n",
    "\n",
    "print(inside(1,1,0,0,2,3))\n",
    "print(inside(-1,-1,0,0,2,3))\n",
    "\n",
    "\n",
    "\n",
    "#b.testing the inside function\n",
    "print(inside(1,1,0.3,0.5,1.1,0.7))   #answer=False\n",
    "print(inside(1,1,0.5,0.2,1.1,2))     #answer=True"
   ]
  },
  {
   "cell_type": "code",
   "execution_count": null,
   "id": "8b4633f2",
   "metadata": {},
   "outputs": [],
   "source": []
  },
  {
   "cell_type": "markdown",
   "id": "43ecf024",
   "metadata": {},
   "source": [
    "Question 6\n",
    "You can turn a word into pig-Latin using the following two rules (simplified):\n",
    "• If the word starts with a consonant, move that letter to the end and append\n",
    "'ay'. For example, 'happy' becomes 'appyhay' and 'pencil' becomes 'encilpay'.\n",
    "• If the word starts with a vowel, simply append 'way' to the end of the word.\n",
    "For example, 'enter' becomes 'enterway' and 'other' becomes 'otherway' . For\n",
    "our purposes, there are 5 vowels: a, e, i, o, u (so we count y as a consonant).\n",
    "Write a function pig() that takes a word (i.e., a string) as input and returns its pigLatin form. Your function should still work if the input word contains upper case\n",
    "characters. Your output should always be lower case however.\n",
    "--pig('happy')\n",
    "'appyhay'\n",
    "--pig('Enter')\n",
    "'enterway' "
   ]
  },
  {
   "cell_type": "code",
   "execution_count": 28,
   "id": "9565b604",
   "metadata": {},
   "outputs": [
    {
     "name": "stdout",
     "output_type": "stream",
     "text": [
      "appyhay\n",
      "enterway\n"
     ]
    }
   ],
   "source": [
    "# defining function pig\n",
    "def pig(string):\n",
    "    string = string.lower() #converting to lower case\n",
    "    vowels = ['a', 'e', 'i', 'o', 'u']\n",
    "    string_check =False\n",
    "    for each in vowels:\n",
    "        if string.startswith(each):  # checking for starts with vowel\n",
    "            string_check = True\n",
    "    if string_check: # String starts with vowel\n",
    "        print(string + 'way')\n",
    "    else:  # string starts with consonant\n",
    "        start_letter = string[0]\n",
    "        print(string[1:] + start_letter+'ay')\n",
    "        \n",
    "pig('happy')\n",
    "pig('Enter')\n",
    "\n",
    "\n",
    "        "
   ]
  },
  {
   "cell_type": "code",
   "execution_count": null,
   "id": "a7fe667f",
   "metadata": {},
   "outputs": [],
   "source": []
  },
  {
   "cell_type": "markdown",
   "id": "80766c90",
   "metadata": {},
   "source": [
    "Question 7\n",
    "File bloodtype1.txt records blood-types of patients (A, B, AB, O or OO) at a clinic.\n",
    "Write a function bldcount() that reads the file with name name and reports (i.e.,\n",
    "prints) how many patients there are in each bloodtype.\n",
    "bldcount('bloodtype.txt')\n",
    "There are 10 patients of blood type A.\n",
    "There is one patient of blood type B.\n",
    "There are 10 patients of blood type AB.\n",
    "There are 12 patients of blood type O.\n",
    "There are no patients of blood type OO.\n"
   ]
  },
  {
   "cell_type": "code",
   "execution_count": 36,
   "id": "63ead170",
   "metadata": {},
   "outputs": [
    {
     "name": "stdout",
     "output_type": "stream",
     "text": [
      "There are  28  pateints of blood type  A .\n",
      "There are  14  pateints of blood type  B .\n",
      "There are  13  pateints of blood type  AB .\n",
      "There are  15  pateints of blood type  O .\n",
      "There are  no  pateints of blood type  OO .\n"
     ]
    }
   ],
   "source": [
    "#writing a function bldcount\n",
    "def bldcount():   \n",
    "    file = open('bloodtype1.txt')                       #opening the file\n",
    "    blood_types = ['A', 'B', 'AB', 'O', 'OO']           #defining the blood types\n",
    "    data = file.read()                                  # reading the files\n",
    "    for blood in blood_types:                           #iteration of blood types\n",
    "        count = data.count(blood)                       #counting the number of blood types\n",
    "        if count == 0:                                  # if count is zero replace with no\n",
    "            count = 'no'\n",
    "        print('There are ',count,' pateints of blood type ',blood,'.')\n",
    "    \n",
    "#calling the function\n",
    "bldcount()\n"
   ]
  },
  {
   "cell_type": "markdown",
   "id": "261aabba",
   "metadata": {},
   "source": []
  },
  {
   "cell_type": "markdown",
   "id": "cd2ca987",
   "metadata": {},
   "source": [
    "Question 8\n",
    "Write a function curconv() that takes as input:\n",
    "1.a currency represented using a string (e.g., 'JPY' for the Japanese Yen or\n",
    "'EUR' for the Euro)\n",
    "2.an amount\n",
    "and then converts and returns the amount in US dollars.\n",
    "ex--curconv('EUR', 100)\n",
    "122.96544\n",
    "ex -- curconv('JPY', 100)\n",
    "1.241401\n",
    "The currency rates you will need are stored in file currencies.txt:\n",
    "AUD 1.0345157 Australian Dollar\n",
    "CHF 1.0237414 Swiss Franc\n",
    "CNY 0.1550176 Chinese Yuan\n",
    "DKK 0.1651442 Danish Krone\n",
    "EUR 1.2296544 Euro\n",
    "GBP 1.5550989 British Pound\n",
    "HKD 0.1270207 Hong Kong Dollar\n",
    "INR 0.0177643 Indian Rupee\n",
    "JPY 0.01241401 Japanese Yen\n",
    "MXN 0.0751848 Mexican Peso\n",
    "MYR 0.3145411 Malaysian Ringgit\n",
    "NOK 0.1677063 Norwegian Krone\n",
    "NZD 0.8003591 New Zealand Dollar\n",
    "PHP 0.0233234 Philippine Peso\n",
    "SEK 0.148269 Swedish Krona\n",
    "SGD 0.788871 Singapore Dollar\n",
    "THB 0.0313789 Thai Baht"
   ]
  },
  {
   "cell_type": "code",
   "execution_count": 39,
   "id": "664ed0de",
   "metadata": {},
   "outputs": [
    {
     "name": "stdout",
     "output_type": "stream",
     "text": [
      "122.96544\n",
      "1.241401\n"
     ]
    }
   ],
   "source": [
    "#define function curconv with parameters 'currnecy', 'amount'\n",
    "def curconv(currency, amount): \n",
    "    file= open('currencies.txt')                        #open a file currencies.txt\n",
    "    data= file.readlines()                              # using readlines get lines list from file\n",
    "    for each in data:                                   #iteration of all the lines\n",
    "        if each.startswith(currency):                   # verifying the currnecy match\n",
    "            conv_amount = float(each.split('\\t')[1])    # using split with '\\t' getting conversion amount and typecast to float \n",
    "            print(conv_amount * amount)                 # multiplying and getting the result\n",
    "\n",
    "# calling function with different arguments\n",
    "curconv('EUR',100)\n",
    "curconv('JPY', 100)"
   ]
  },
  {
   "cell_type": "code",
   "execution_count": null,
   "id": "867a1dc7",
   "metadata": {},
   "outputs": [],
   "source": []
  },
  {
   "cell_type": "markdown",
   "id": "53a827f2",
   "metadata": {},
   "source": [
    "Question 9\n",
    "Each of the following will cause an exception (an error). Identify what type of\n",
    "exception each will cause.\n",
    "Trying to add incompatible variables, as in\n",
    "adding 6 + ‘a’\n",
    "Referring to the 12th item of a list that has only 10\n",
    "items\n",
    "Using a value that is out of range for a function’s\n",
    "input, such as calling math.sqrt(-1.0)\n",
    "Using an undeclared variable, such as print(x)\n",
    "when x has not been defined\n",
    "Trying to open a file that does not exist, such as\n",
    "mistyping the file name or looking in the wrong\n",
    "directory"
   ]
  },
  {
   "cell_type": "code",
   "execution_count": 47,
   "id": "e2f76e18",
   "metadata": {},
   "outputs": [],
   "source": [
    "#a.Trying to add incompatible variables, as in\n",
    "# 6 + 'a'   \n",
    "#answer-  TypeError unsupported operand type(s) for +: 'int' and 'str'\n",
    "\n",
    "#b. Referring to the 12th item of a list that has only 10 items\n",
    "# array_list = [1,2,3,4,5,6,7,8,9,10]\n",
    "# array_list[12]  \n",
    "#answer-IndexError: list index out of range\n",
    "\n",
    "#c.Using a value that is out of range for a function’s input, such as calling math.sqrt(-1.0)\n",
    "# from math import sqrt\n",
    "# sqrt(-1.0)\n",
    "#answer-ValueError: math domain error\n",
    "\n",
    "#d.Using an undeclared variable, such as print(x) when x has not been defined\n",
    "# print(x) \n",
    "# answer- NameError: name 'x' is not defined\n",
    "\n",
    "#e.Trying to open a file that does not exist, such as mistyping the file name or looking in the wrong directory\n",
    "# file = open('example1.txt')\n",
    "#answer- FileNotFoundError: [Errno 2] No such file or directory: 'example1.txt'\n",
    "\n"
   ]
  },
  {
   "cell_type": "code",
   "execution_count": null,
   "id": "4495ac48",
   "metadata": {},
   "outputs": [],
   "source": []
  },
  {
   "cell_type": "markdown",
   "id": "8f396ff1",
   "metadata": {},
   "source": [
    "Question 10\n",
    "Encryption is the process of hiding the meaning of a text by substituting letters in the\n",
    "message with other letters, according to some system. If the process is successful, no\n",
    "one but the intended recipient can understand the encrypted message. Cryptanalysis\n",
    "refers to attempts to undo the encryption, even if some details of the encryption are\n",
    "unknown (for example, if an encrypted message has been intercepted). The first step\n",
    "of cryptanalysis is often to build up a table of letter frequencies in the encrypted text.\n",
    "Assume that the string letters is already defined as\n",
    "'abcdefghijklmnopqrstuvwxyz'. Write a function called frequencies()\n",
    "that takes a string as its only parameter, and returns a list of integers, showing the\n",
    "number of times each character appears in the text. Your function may ignore any\n",
    "characters that are not in letters.\n",
    " frequencies('The quick red fox got bored and went home.')[1, 1, 1, 3, 5, 1, 1, 2, 1, 0, 1, 0, 1, 2, 4, 0, 1, 2, 0, 2,\n",
    "1, 0, 1, 1, 0, 0]\n",
    "frequencies('apple')"
   ]
  },
  {
   "cell_type": "code",
   "execution_count": 49,
   "id": "7502b5c6",
   "metadata": {},
   "outputs": [
    {
     "name": "stdout",
     "output_type": "stream",
     "text": [
      "[1, 1, 1, 3, 5, 1, 1, 2, 1, 0, 1, 0, 1, 2, 4, 0, 1, 2, 0, 2, 1, 0, 1, 1, 0, 0]\n",
      "[1, 0, 0, 0, 1, 0, 0, 0, 0, 0, 0, 1, 0, 0, 0, 2, 0, 0, 0, 0, 0, 0, 0, 0, 0, 0]\n"
     ]
    }
   ],
   "source": [
    "#define function frequencies with 'string' paramater\n",
    "def frequencies(string):\n",
    "    letter = 'abcdefghijklmnopqrstuvwxyz' # taking all alphabets\n",
    "    output = []\n",
    "    for each in letter:                   #iteration for each letter\n",
    "        output.append(string.count(each)) #counting the repetition of letter from a to z and appending to output array\n",
    "    print(output)\n",
    "\n",
    "#calling the frequencies function with different arguments\n",
    "frequencies('The quick red fox got bored and went home.') \n",
    "#answer- [1, 1, 1, 3, 5, 1, 1, 2, 1, 0, 1, 0, 1, 2, 4, 0, 1, 2, 0, 2, 1, 0, 1, 1, 0, 0]\n",
    "frequencies('apple')\n",
    "#answer - [1, 0, 0, 0, 1, 0, 0, 0, 0, 0, 0, 1, 0, 0, 0, 2, 0, 0, 0, 0, 0, 0, 0, 0, 0, 0]"
   ]
  },
  {
   "cell_type": "code",
   "execution_count": null,
   "id": "9dfb5215",
   "metadata": {},
   "outputs": [],
   "source": []
  }
 ],
 "metadata": {
  "kernelspec": {
   "display_name": "Python 3 (ipykernel)",
   "language": "python",
   "name": "python3"
  },
  "language_info": {
   "codemirror_mode": {
    "name": "ipython",
    "version": 3
   },
   "file_extension": ".py",
   "mimetype": "text/x-python",
   "name": "python",
   "nbconvert_exporter": "python",
   "pygments_lexer": "ipython3",
   "version": "3.7.0"
  }
 },
 "nbformat": 4,
 "nbformat_minor": 5
}
